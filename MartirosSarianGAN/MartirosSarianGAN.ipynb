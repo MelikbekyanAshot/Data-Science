{
  "nbformat": 4,
  "nbformat_minor": 0,
  "metadata": {
    "colab": {
      "name": "MartirosSarianGAN.ipynb",
      "provenance": [],
      "mount_file_id": "142ZhjtVit6_7-CIL7Seh-r6yKRKfNTlI",
      "authorship_tag": "ABX9TyN64+lGdVZcgttfdX5hmIZl",
      "include_colab_link": true
    },
    "kernelspec": {
      "name": "python3",
      "display_name": "Python 3"
    },
    "language_info": {
      "name": "python"
    }
  },
  "cells": [
    {
      "cell_type": "markdown",
      "metadata": {
        "id": "view-in-github",
        "colab_type": "text"
      },
      "source": [
        "<a href=\"https://colab.research.google.com/github/MelikbekyanAshot/Data-Science/blob/main/MartirosSarianGAN/MartirosSarianGAN.ipynb\" target=\"_parent\"><img src=\"https://colab.research.google.com/assets/colab-badge.svg\" alt=\"Open In Colab\"/></a>"
      ]
    },
    {
      "cell_type": "code",
      "source": [
        "!pip install loguru"
      ],
      "metadata": {
        "colab": {
          "base_uri": "https://localhost:8080/"
        },
        "id": "dKvjwIMsv3pq",
        "outputId": "04325012-e75a-4a56-cfb0-6f08e7dac840"
      },
      "execution_count": null,
      "outputs": [
        {
          "output_type": "stream",
          "name": "stdout",
          "text": [
            "Collecting loguru\n",
            "  Downloading loguru-0.6.0-py3-none-any.whl (58 kB)\n",
            "\u001b[?25l\r\u001b[K     |█████▋                          | 10 kB 18.5 MB/s eta 0:00:01\r\u001b[K     |███████████▎                    | 20 kB 24.7 MB/s eta 0:00:01\r\u001b[K     |████████████████▉               | 30 kB 15.5 MB/s eta 0:00:01\r\u001b[K     |██████████████████████▌         | 40 kB 11.5 MB/s eta 0:00:01\r\u001b[K     |████████████████████████████    | 51 kB 8.9 MB/s eta 0:00:01\r\u001b[K     |████████████████████████████████| 58 kB 3.8 MB/s \n",
            "\u001b[?25hInstalling collected packages: loguru\n",
            "Successfully installed loguru-0.6.0\n"
          ]
        }
      ]
    },
    {
      "cell_type": "code",
      "execution_count": null,
      "metadata": {
        "id": "TGgObASqy3gW"
      },
      "outputs": [],
      "source": [
        "import requests\n",
        "from bs4 import BeautifulSoup\n",
        "\n",
        "import random\n",
        "from loguru import logger\n",
        "\n",
        "import pandas as pd\n",
        "import numpy as np\n",
        "\n",
        "from collections import Counter"
      ]
    },
    {
      "cell_type": "code",
      "source": [
        "Counter([1, 1, 1, 2, 2])[1]"
      ],
      "metadata": {
        "colab": {
          "base_uri": "https://localhost:8080/"
        },
        "id": "gVm-S_7QEwPP",
        "outputId": "cd8bcadf-dc87-453f-b23e-b7e457c2b3f9"
      },
      "execution_count": null,
      "outputs": [
        {
          "output_type": "execute_result",
          "data": {
            "text/plain": [
              "3"
            ]
          },
          "metadata": {},
          "execution_count": 68
        }
      ]
    },
    {
      "cell_type": "code",
      "source": [
        "class Settings:\n",
        "  @staticmethod\n",
        "  def set_logging_settings(path: str, name: str):\n",
        "    \"\"\"Настройка логгирования.\n",
        "    \n",
        "    Args:\n",
        "      path (str): путь файла логгирования.\n",
        "      name (str): название файла логгирования.\n",
        "    \"\"\"\n",
        "    logger.remove()\n",
        "    logger.add(path + '/' + name,\n",
        "               format='{time:YYYY-MM-DD HH:mm:ss.SSS} | {level} | {message}',\n",
        "               backtrace=True, diagnose=True, enqueue=True)"
      ],
      "metadata": {
        "id": "mUXpw3L9wDaA"
      },
      "execution_count": null,
      "outputs": []
    },
    {
      "cell_type": "code",
      "source": [
        "class PaintingDownloader:\n",
        "  def __init__(self, paintings_urls=list(), paintings_names=list()):\n",
        "    self.paintings_urls = paintings_urls\n",
        "    self.paintings_names = paintings_names\n",
        "\n",
        "  def get_pictures_urls(self):\n",
        "    main_url = 'https://www.wikiart.org/en/martiros-sarian/all-works/text-list'\n",
        "    main_page = requests.get(main_url)\n",
        "    main_soup = BeautifulSoup(main_page.text)\n",
        "    URLS = main_soup.find_all('li', {'class': 'painting-list-text-row'})\n",
        "\n",
        "    for link in URLS:\n",
        "      try:\n",
        "        painting_page = requests.get('https://www.wikiart.org' + link.find('a').get('href'))\n",
        "        painting_soup = BeautifulSoup(painting_page.text)\n",
        "\n",
        "        if painting_soup.find('img', {'itemprop': 'image'}):\n",
        "          name_ = painting_soup.find('img', {'itemprop': 'image'}).get('title')\n",
        "          self.paintings_names.append(name_)\n",
        "          url_ = painting_soup.find('img', {'itemprop': 'image'}).get('src')\n",
        "          self.paintings_urls.append(url_)\n",
        "          logger.success(f'Картина {name_} по ссылке {url_} загружена')\n",
        "        else:\n",
        "          logger.error(f'Не найдена картина по ссылке {link}')\n",
        "      except Exception as e:\n",
        "        logger.error(e)\n",
        "  \n",
        "  def download_pictures(self, path: str):\n",
        "    for link, name in zip(self.paintings_urls, self.paintings_names):\n",
        "      img_data = requests.get(link).content\n",
        "      if Counter(self.paintings_names)[name] == 1:\n",
        "        with open(f'{path}/{name}.jpg', 'wb') as handler:\n",
        "          handler.write(img_data)\n",
        "      else:\n",
        "        with open(f'{path}/{name}({{random.randint(1, 10000)}}).jpg', 'wb') as handler:\n",
        "          handler.write(img_data)"
      ],
      "metadata": {
        "id": "RgAaXyE2zkTN"
      },
      "execution_count": null,
      "outputs": []
    },
    {
      "cell_type": "code",
      "source": [
        "Settings.set_logging_settings('/content/drive/MyDrive/Data Science/SarianGAN', 'log_file')"
      ],
      "metadata": {
        "id": "S6dL4E6LCM2-"
      },
      "execution_count": null,
      "outputs": []
    },
    {
      "cell_type": "code",
      "source": [
        "paintingDownloader = PaintingDownloader()"
      ],
      "metadata": {
        "id": "tKwtIgBq3kCV"
      },
      "execution_count": null,
      "outputs": []
    },
    {
      "cell_type": "code",
      "source": [
        "paintingDownloader.get_pictures_urls()"
      ],
      "metadata": {
        "id": "JtO6UzGa5SgC"
      },
      "execution_count": null,
      "outputs": []
    },
    {
      "cell_type": "code",
      "source": [
        "paintingDownloader.paintings_names"
      ],
      "metadata": {
        "id": "jje9NEAOQBcM"
      },
      "execution_count": null,
      "outputs": []
    },
    {
      "cell_type": "code",
      "source": [
        "len(paintingDownloader.paintings_names)"
      ],
      "metadata": {
        "colab": {
          "base_uri": "https://localhost:8080/"
        },
        "id": "TtNvFK3IC0r4",
        "outputId": "7e682e69-94e4-4712-f796-3790a5ed93b0"
      },
      "execution_count": null,
      "outputs": [
        {
          "output_type": "execute_result",
          "data": {
            "text/plain": [
              "551"
            ]
          },
          "metadata": {},
          "execution_count": 93
        }
      ]
    },
    {
      "cell_type": "code",
      "source": [
        "paintingDownloader.download_pictures(path='/content/drive/MyDrive/Data Science/SarianGAN/Data')"
      ],
      "metadata": {
        "id": "WAWdcxDk5Z-5"
      },
      "execution_count": null,
      "outputs": []
    }
  ]
}